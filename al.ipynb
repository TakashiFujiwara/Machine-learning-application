{
 "cells": [
  {
   "cell_type": "code",
   "execution_count": 1,
   "id": "f3b27ca3-59d9-4b0d-a34e-4c107d7a5044",
   "metadata": {},
   "outputs": [
    {
     "data": {
      "text/plain": [
       "[0, 1, 2, 3, 4, 5, 6, 7, 8, 9]"
      ]
     },
     "execution_count": 1,
     "metadata": {},
     "output_type": "execute_result"
    }
   ],
   "source": [
    "data=[]\n",
    "for i in range(10):\n",
    "    data.append(i)\n",
    "    \n",
    "data"
   ]
  },
  {
   "cell_type": "code",
   "execution_count": 4,
   "id": "39a9a05a-0dea-4d55-84c1-a6b1686837a8",
   "metadata": {},
   "outputs": [
    {
     "data": {
      "text/plain": [
       "[0, 2, 4, 6, 8]"
      ]
     },
     "execution_count": 4,
     "metadata": {},
     "output_type": "execute_result"
    }
   ],
   "source": [
    "#assemble even number\n",
    "data=[i for i in range(10) if i%2==0]\n",
    "data"
   ]
  },
  {
   "cell_type": "code",
   "execution_count": 6,
   "id": "caa27a20-661d-43b1-8f62-7b524859d257",
   "metadata": {},
   "outputs": [
    {
     "data": {
      "text/plain": [
       "[0, 0, 2, 0, 4, 0, 6, 0, 8, 0]"
      ]
     },
     "execution_count": 6,
     "metadata": {},
     "output_type": "execute_result"
    }
   ],
   "source": [
    "#odd number change 0\n",
    "data=[i if i%2==0 else 0 for i in range(10)]\n",
    "data"
   ]
  },
  {
   "cell_type": "code",
   "execution_count": 8,
   "id": "b754e025-dac4-4f83-8a73-24b169da2d60",
   "metadata": {},
   "outputs": [
    {
     "name": "stdout",
     "output_type": "stream",
     "text": [
      "30\n",
      "30\n"
     ]
    }
   ],
   "source": [
    "#when you want to rewrite global variable\n",
    "x=10\n",
    "def reset():\n",
    "    global x\n",
    "    x=30\n",
    "    print(x)\n",
    "reset()\n",
    "print(x)"
   ]
  },
  {
   "cell_type": "code",
   "execution_count": 9,
   "id": "47c318b4-35eb-4d61-8841-bb17be435e44",
   "metadata": {},
   "outputs": [
    {
     "name": "stdout",
     "output_type": "stream",
     "text": [
      "logout\n"
     ]
    }
   ],
   "source": [
    "#User class\n",
    "class User:\n",
    "    def __init__(self, name, password):\n",
    "        self.name=name\n",
    "        self.password=password\n",
    "    def login(self, password):\n",
    "        if self.password==password:\n",
    "            return True\n",
    "        else:\n",
    "            return False\n",
    "    def logout(self):\n",
    "        print('logout')\n",
    "\n",
    "a=User('Takashi', 'takashi0813')\n",
    "if a.login('takashi0813'):\n",
    "    a.logout()"
   ]
  },
  {
   "cell_type": "code",
   "execution_count": 12,
   "id": "7319199f-ff32-4e1d-835c-2127d6aa768e",
   "metadata": {},
   "outputs": [
    {
     "name": "stdout",
     "output_type": "stream",
     "text": [
      "logout\n"
     ]
    }
   ],
   "source": [
    "#inheritance\n",
    "class GuestUser(User):\n",
    "    def __init__(self):\n",
    "        super().__init__('guest', 'guest')\n",
    "b=GuestUser()\n",
    "if b.login('guest'):\n",
    "    b.logout()"
   ]
  },
  {
   "cell_type": "code",
   "execution_count": 13,
   "id": "231f958d-0d86-4d2c-bd1f-4ab2fccc0121",
   "metadata": {},
   "outputs": [
    {
     "name": "stdout",
     "output_type": "stream",
     "text": [
      "3\n",
      "7\n",
      "3\n"
     ]
    }
   ],
   "source": [
    "x=3\n",
    "def calc(x):\n",
    "    x += 4\n",
    "    return x\n",
    "\n",
    "print(x)\n",
    "print(calc(x))\n",
    "print(x)"
   ]
  },
  {
   "cell_type": "code",
   "execution_count": 14,
   "id": "12b3ba84-f17d-4191-8437-29a2e3d3f015",
   "metadata": {},
   "outputs": [
    {
     "name": "stdout",
     "output_type": "stream",
     "text": [
      "[3]\n",
      "[7]\n",
      "[7]\n"
     ]
    }
   ],
   "source": [
    "a=[3]\n",
    "def calc(a):\n",
    "    a[0] += 4\n",
    "    return a\n",
    "\n",
    "print(a)\n",
    "print(calc(a))\n",
    "print(a)"
   ]
  },
  {
   "cell_type": "code",
   "execution_count": 15,
   "id": "74976870-0a9b-4420-b9f5-621a982a2e9e",
   "metadata": {},
   "outputs": [
    {
     "name": "stdout",
     "output_type": "stream",
     "text": [
      "[3]\n",
      "[4]\n",
      "[3]\n"
     ]
    }
   ],
   "source": [
    "a=[3]\n",
    "def calc(a):\n",
    "    a=[4]\n",
    "    return a\n",
    "\n",
    "print(a)\n",
    "print(calc(a))\n",
    "print(a)"
   ]
  },
  {
   "cell_type": "code",
   "execution_count": 18,
   "id": "4c111b50-dbec-4910-aab8-abec0986743c",
   "metadata": {
    "tags": []
   },
   "outputs": [
    {
     "name": "stdout",
     "output_type": "stream",
     "text": [
      "Fizz Buzz Fizz Fizz Buzz Fizz FizzBuzz Fizz Buzz Fizz Fizz Buzz Fizz FizzBuzz Fizz Buzz Fizz Fizz Buzz Fizz FizzBuzz Fizz Buzz "
     ]
    }
   ],
   "source": [
    "#FizzBuzz\n",
    "for i in range(1,51):\n",
    "    if (i%3==0) and (i%5==0):\n",
    "        print('FizzBuzz', end=' ')\n",
    "    elif (i%3==0):\n",
    "        print('Fizz', end=' ')\n",
    "    elif (i%5==0):\n",
    "        print('Buzz', end=' ')\n",
    "        "
   ]
  },
  {
   "cell_type": "code",
   "execution_count": 26,
   "id": "f5a04d58-b671-40e4-917c-b394224f2c57",
   "metadata": {},
   "outputs": [
    {
     "name": "stdin",
     "output_type": "stream",
     "text": [
      "insert:  10000\n",
      "product:  647832\n"
     ]
    },
    {
     "name": "stdout",
     "output_type": "stream",
     "text": [
      "You should pay more money.\n"
     ]
    },
    {
     "ename": "SystemExit",
     "evalue": "",
     "output_type": "error",
     "traceback": [
      "An exception has occurred, use %tb to see the full traceback.\n",
      "\u001b[0;31mSystemExit\u001b[0m\n"
     ]
    }
   ],
   "source": [
    "#vending machine\n",
    "import sys\n",
    "\n",
    "insert_price=input('insert: ')\n",
    "if not insert_price.isdecimal():\n",
    "    print('Please fill in integer.')\n",
    "    sys.exit()\n",
    "\n",
    "product_price=input('product: ')\n",
    "if not product_price.isdecimal():\n",
    "    print('Please fill in integer.')\n",
    "    sys.exit()\n",
    "\n",
    "change=int(insert_price)-int(product_price)\n",
    "\n",
    "if change < 0:\n",
    "    print('You should pay more money.')\n",
    "    sys.exit()\n",
    "\n",
    "coin=[10000, 5000, 1000, 500, 100, 50, 10, 5, 1]\n",
    "\n",
    "for i in coin:\n",
    "    r=change//i\n",
    "    change %= i\n",
    "    #r, change = divmod(change, i)\n",
    "    print(str(i) + ': ' + str(r))"
   ]
  },
  {
   "cell_type": "code",
   "execution_count": 29,
   "id": "4bf356bc-73c7-4d67-b52c-ce7d32a9ada3",
   "metadata": {},
   "outputs": [
    {
     "name": "stdin",
     "output_type": "stream",
     "text": [
      " 18\n"
     ]
    },
    {
     "name": "stdout",
     "output_type": "stream",
     "text": [
      "10010\n",
      "200\n",
      "22\n"
     ]
    }
   ],
   "source": [
    "#convert decimal number into binary number\n",
    "n=int(input())\n",
    "\n",
    "def convert(n, base):\n",
    "    result=''\n",
    "    \n",
    "    while n > 0:\n",
    "        result = str(n%base) + result\n",
    "        n//=base\n",
    "        \n",
    "    return result\n",
    "print(convert(n,2))\n",
    "print(convert(n,3))\n",
    "print(convert(n,8))"
   ]
  },
  {
   "cell_type": "code",
   "execution_count": 32,
   "id": "9e5f4d45-27b5-495b-b000-fa5f69fca67e",
   "metadata": {},
   "outputs": [
    {
     "name": "stdout",
     "output_type": "stream",
     "text": [
      "18\n"
     ]
    }
   ],
   "source": [
    "#convert binary number into decimal number\n",
    "n='10010'\n",
    "\n",
    "result = 0\n",
    "for i in range(len(n)):\n",
    "    result += int(n[i]) * (2**(len(n)-i-1))\n",
    "print(result)\n",
    "    "
   ]
  },
  {
   "cell_type": "code",
   "execution_count": 37,
   "id": "8587d3cb-1241-4465-81ff-33d70d94ce5c",
   "metadata": {},
   "outputs": [
    {
     "name": "stdout",
     "output_type": "stream",
     "text": [
      "-0b10011\n",
      "0b10000\n",
      "0b11011\n",
      "0b1011\n",
      "0b100100\n",
      "0b110\n"
     ]
    }
   ],
   "source": [
    "#bitwise operation\n",
    "a=0b10010\n",
    "print(bin(~a))\n",
    "b=0b11001\n",
    "print(bin(a & b))\n",
    "print(bin(a | b))\n",
    "print(bin(a ^ b))\n",
    "print(bin(a << 1))\n",
    "print(bin(b >> 2))"
   ]
  },
  {
   "cell_type": "code",
   "execution_count": 39,
   "id": "db2097b1-12a2-4b82-988c-e6bbcdf90c71",
   "metadata": {
    "scrolled": true,
    "tags": []
   },
   "outputs": [
    {
     "name": "stdout",
     "output_type": "stream",
     "text": [
      "1952 uruu year\n",
      "1956 uruu year\n",
      "1960 uruu year\n",
      "1964 uruu year\n",
      "1968 uruu year\n",
      "1972 uruu year\n",
      "1976 uruu year\n",
      "1980 uruu year\n",
      "1984 uruu year\n",
      "1988 uruu year\n",
      "1992 uruu year\n",
      "1996 uruu year\n",
      "2000 uruu year\n",
      "2004 uruu year\n",
      "2008 uruu year\n",
      "2012 uruu year\n",
      "2016 uruu year\n",
      "2020 uruu year\n",
      "2024 uruu year\n",
      "2028 uruu year\n",
      "2032 uruu year\n",
      "2036 uruu year\n",
      "2040 uruu year\n",
      "2044 uruu year\n",
      "2048 uruu year\n"
     ]
    }
   ],
   "source": [
    "#uruu year\n",
    "def is_year(n):\n",
    "    if n%4==0:\n",
    "        if (n%100 == 0) and (n%400 != 0):\n",
    "            return False\n",
    "        else:\n",
    "            return True\n",
    "for i in range(1950,2051):\n",
    "    if is_year(i):\n",
    "        print(str(i) + ' ' + 'uruu year')\n",
    "            "
   ]
  },
  {
   "cell_type": "code",
   "execution_count": 40,
   "id": "d7dbddde-dc35-463c-beec-0bba2179b876",
   "metadata": {},
   "outputs": [
    {
     "name": "stdout",
     "output_type": "stream",
     "text": [
      "8\n"
     ]
    }
   ],
   "source": [
    "#binary search (after sorting)\n",
    "def binary_search(data, value):\n",
    "    left=0\n",
    "    right=len(data)-1\n",
    "    while left <= right:\n",
    "        mid=(left + right)//2\n",
    "        if data[mid]==value:\n",
    "            #return position\n",
    "            return mid\n",
    "        elif data[mid] < value:\n",
    "            left=mid+1\n",
    "        else:\n",
    "            right = mid - 1\n",
    "    return -1\n",
    "\n",
    "data=[10,20,30,40,50,60,70,80,90]\n",
    "print(binary_search(data,90))"
   ]
  },
  {
   "cell_type": "code",
   "execution_count": 43,
   "id": "c8302b57-2c31-4cf8-8754-a0cf9a323cab",
   "metadata": {},
   "outputs": [
    {
     "name": "stdout",
     "output_type": "stream",
     "text": [
      "0 1 2 3 4 5 6 7 8 9 10 11 12 13 14 "
     ]
    }
   ],
   "source": [
    "#breadth search\n",
    "tree=[[1,2], [3,4], [5,6], [7,8], [9,10], [11,12], [13,14], [],[],[],[],[],[],[],[]]\n",
    "data=[0]\n",
    "while len(data)>0:\n",
    "    pos=data.pop(0)\n",
    "    print(pos,end=' ')\n",
    "    for i in tree[pos]:\n",
    "        data.append(i)"
   ]
  },
  {
   "cell_type": "code",
   "execution_count": 44,
   "id": "8f8a964f-da20-4add-bd43-213d3b2dc327",
   "metadata": {},
   "outputs": [
    {
     "name": "stdout",
     "output_type": "stream",
     "text": [
      "0 1 3 7 8 4 9 10 2 5 11 12 6 13 14 "
     ]
    }
   ],
   "source": [
    "#depth_search\n",
    "tree=[[1,2], [3,4], [5,6], [7,8], [9,10], [11,12], [13,14], [],[],[],[],[],[],[],[]]\n",
    "\n",
    "def search(pos):\n",
    "    print(pos, end=' ')\n",
    "    for i in tree[pos]:\n",
    "        search(i)\n",
    "search(0)"
   ]
  },
  {
   "cell_type": "code",
   "execution_count": 47,
   "id": "d35b9293-3bc3-4eda-a620-8220b077a3ea",
   "metadata": {},
   "outputs": [
    {
     "name": "stdout",
     "output_type": "stream",
     "text": [
      "7 8 3 9 10 4 1 11 12 5 13 14 6 2 0 "
     ]
    }
   ],
   "source": [
    "#depth search back way\n",
    "tree=[[1,2], [3,4], [5,6], [7,8], [9,10], [11,12], [13,14], [],[],[],[],[],[],[],[]]\n",
    "def search_back(pos):\n",
    "    for i in tree[pos]:\n",
    "        search_back(i)\n",
    "    print(pos, end=' ')\n",
    "search_back(0)"
   ]
  },
  {
   "cell_type": "code",
   "execution_count": 50,
   "id": "715237f3-f8a0-4e53-864b-a05ccb0c236b",
   "metadata": {},
   "outputs": [
    {
     "name": "stdout",
     "output_type": "stream",
     "text": [
      "7 3 8 1 9 4 10 0 11 5 12 2 13 6 14 "
     ]
    }
   ],
   "source": [
    "#depth search (Toorigake jun)\n",
    "tree=[[1,2], [3,4], [5,6], [7,8], [9,10], [11,12], [13,14], [],[],[],[],[],[],[],[]]\n",
    "\n",
    "def search3(pos):\n",
    "    if len(tree[pos])==2:\n",
    "        search3(tree[pos][0])\n",
    "        print(pos, end=' ')\n",
    "        search3(tree[pos][1])\n",
    "    elif len(tree[pos])==1:\n",
    "        search3(tree[pos][0])\n",
    "        print(pos, end=' ')\n",
    "    else:\n",
    "        print(pos, end=' ')\n",
    "\n",
    "search3(0)"
   ]
  },
  {
   "cell_type": "code",
   "execution_count": 51,
   "id": "cd269a00-3a27-4f96-9d47-865ae7d329f8",
   "metadata": {},
   "outputs": [
    {
     "name": "stdout",
     "output_type": "stream",
     "text": [
      "0 2 6 14 13 5 12 11 1 4 10 9 3 8 7 "
     ]
    }
   ],
   "source": [
    "#depth search (reverse back way)\n",
    "tree=[[1,2], [3,4], [5,6], [7,8], [9,10], [11,12], [13,14], [],[],[],[],[],[],[],[]]\n",
    "\n",
    "data=[0]\n",
    "while len(data) > 0:\n",
    "    pos=data.pop()\n",
    "    print(pos, end=' ')\n",
    "    for i in tree[pos]:\n",
    "        data.append(i)"
   ]
  },
  {
   "cell_type": "code",
   "execution_count": 52,
   "id": "b3726157-a636-4fca-b02d-26513ea197f6",
   "metadata": {},
   "outputs": [
    {
     "name": "stdout",
     "output_type": "stream",
     "text": [
      "3\n"
     ]
    }
   ],
   "source": [
    "#Sort Algorithm in the following boxs\n",
    "#min search\n",
    "data=[6,15,4,2,8,5,11,9,7,13]\n",
    "\n",
    "min=0\n",
    "for i in range(1, len(data)):\n",
    "    if data[min]>data[i]:\n",
    "        min=i\n",
    "print(min)"
   ]
  },
  {
   "cell_type": "code",
   "execution_count": 57,
   "id": "3e82fe0d-27ca-47c5-9fe6-cd71ff9507de",
   "metadata": {},
   "outputs": [
    {
     "name": "stdout",
     "output_type": "stream",
     "text": [
      "[2, 4, 5, 6, 7, 8, 9, 11, 13, 15]\n"
     ]
    }
   ],
   "source": [
    "#using above\n",
    "#selective sorting O(n**2)\n",
    "data=[6,15,4,2,8,5,11,9,7,13]\n",
    "\n",
    "for i in range(len(data)):\n",
    "    min=i\n",
    "    for j in range(i+1 ,len(data)):\n",
    "        if data[min]>data[j]:\n",
    "            min=j\n",
    "    data[min], data[i] = data[i], data[min]\n",
    "    \n",
    "print(data)"
   ]
  },
  {
   "cell_type": "code",
   "execution_count": 58,
   "id": "df991719-01a7-46a4-bac1-f1ad310d6f12",
   "metadata": {},
   "outputs": [
    {
     "name": "stdout",
     "output_type": "stream",
     "text": [
      "[2, 4, 5, 6, 7, 8, 9, 11, 13, 15]\n"
     ]
    }
   ],
   "source": [
    "#insert sort\n",
    "data=[6,15,4,2,8,5,11,9,7,13]\n",
    "\n",
    "for i in range(1, len(data)):\n",
    "    temp = data[i]\n",
    "    j=i-1\n",
    "    while (j >= 0) and (data[j]>temp):\n",
    "        data[j+1]=data[j]\n",
    "        j -= 1\n",
    "    data[j+1]=temp\n",
    "print(data)"
   ]
  },
  {
   "cell_type": "code",
   "execution_count": 59,
   "id": "66238adf-83fe-4a08-a91c-4387e72c1906",
   "metadata": {},
   "outputs": [
    {
     "name": "stdout",
     "output_type": "stream",
     "text": [
      "[2, 4, 5, 6, 7, 8, 9, 11, 13, 15]\n"
     ]
    }
   ],
   "source": [
    "#Bubble sort\n",
    "data=[6,15,4,2,8,5,11,9,7,13]\n",
    "\n",
    "for i in range(len(data)):\n",
    "    for j in range(len(data) - i - 1):\n",
    "        if data[j]>data[j+1]:\n",
    "            data[j], data[j+1]=data[j+1], data[j]\n",
    "print(data)"
   ]
  },
  {
   "cell_type": "code",
   "execution_count": 61,
   "id": "9efa96c7-0f36-4038-baf8-360f24c215bc",
   "metadata": {},
   "outputs": [
    {
     "name": "stdout",
     "output_type": "stream",
     "text": [
      "[2, 4, 5, 6, 7, 8, 9, 11, 13, 15]\n"
     ]
    }
   ],
   "source": [
    "#improved Bubble sort \n",
    "data=[6,15,4,2,8,5,11,9,7,13]\n",
    "\n",
    "change=True\n",
    "for i in range(len(data)):\n",
    "    if not change:\n",
    "        break\n",
    "    change=False\n",
    "    for j in range(len(data)-i-1):\n",
    "        if data[j]>data[j+1]:\n",
    "            data[j], data[j+1]=data[j+1], data[j]\n",
    "            change=True\n",
    "\n",
    "print(data)"
   ]
  },
  {
   "cell_type": "code",
   "execution_count": 62,
   "id": "19c988a2-bdc3-438d-8ac6-7a21d3ea4ad9",
   "metadata": {},
   "outputs": [
    {
     "name": "stdout",
     "output_type": "stream",
     "text": [
      "2\n",
      "5\n",
      "3\n",
      "4\n"
     ]
    }
   ],
   "source": [
    "#stack\n",
    "stack=[]\n",
    "\n",
    "stack.append(3)\n",
    "stack.append(5)\n",
    "stack.append(2)\n",
    "\n",
    "temp=stack.pop()\n",
    "print(temp)\n",
    "\n",
    "temp=stack.pop()\n",
    "print(temp)\n",
    "\n",
    "temp=stack.pop()\n",
    "print(temp)\n",
    "\n",
    "stack.append(4)\n",
    "\n",
    "temp=stack.pop()\n",
    "print(temp)"
   ]
  },
  {
   "cell_type": "code",
   "execution_count": 66,
   "id": "a7edd1f0-f6a4-4e99-9ea3-3e215c3cb68b",
   "metadata": {},
   "outputs": [
    {
     "name": "stdout",
     "output_type": "stream",
     "text": [
      "3\n",
      "5\n"
     ]
    }
   ],
   "source": [
    "#queue\n",
    "import queue\n",
    "\n",
    "q=queue.Queue()\n",
    "\n",
    "q.put(3)\n",
    "q.put(5)\n",
    "q.put(2)\n",
    "\n",
    "temp=q.get()\n",
    "print(temp)\n",
    "\n",
    "temp=q.get()\n",
    "print(temp)\n",
    "\n",
    "q.put(4)"
   ]
  },
  {
   "cell_type": "code",
   "execution_count": 67,
   "id": "f2c4f0c0-914a-4af9-b782-3e73faeee836",
   "metadata": {},
   "outputs": [
    {
     "name": "stdout",
     "output_type": "stream",
     "text": [
      "10\n",
      "9\n",
      "8\n",
      "7\n",
      "6\n",
      "5\n",
      "4\n",
      "3\n",
      "2\n",
      "1\n"
     ]
    }
   ],
   "source": [
    "for i in range(10, 0, -1):\n",
    "    print(i)"
   ]
  },
  {
   "cell_type": "code",
   "execution_count": 69,
   "id": "e648330f-2661-409e-8ebd-3d6d4f39c06e",
   "metadata": {},
   "outputs": [
    {
     "name": "stdout",
     "output_type": "stream",
     "text": [
      "[2, 4, 5, 6, 7, 9, 13, 8, 11, 15]\n"
     ]
    }
   ],
   "source": [
    "#heap sort O(log2N)\n",
    "data=[6,15,4,2,8,5,11,9,7,13]\n",
    "#heap construction\n",
    "for i in range(len(data)):\n",
    "    j=i\n",
    "    while (j>0) and (data[(j-1)//2] < data[j]):\n",
    "        data[(j-1)//2], data[j]=data[j],data[(j-1)//2]\n",
    "        j=(j-1//2)\n",
    "        \n",
    "#sorting\n",
    "for i in range(len(data), 0, -1):\n",
    "    #Exchange the top of heap\n",
    "    data[i-1], data[0] = data[0], data[i-1]\n",
    "    j=0\n",
    "    while ((2*j+1 < i-1) and (data[j] < data[2*j+1]))\\\n",
    "     or ((2*j+2 < i-1) and (data[j] < data[2*j+2])):\n",
    "        if (2*j+2 == i-1) or (data[2*j+1] > data[2*j+2]):\n",
    "            #exchange lower left\n",
    "            data[j], data[2*j+1]=data[2*j+1], data[j]\n",
    "            j=2*j+1\n",
    "            \n",
    "        else:\n",
    "            #exchange lower right\n",
    "            data[j], data[2*j+2]=data[2*j+2], data[j]\n",
    "            j=2*j+2\n",
    "print(data)"
   ]
  },
  {
   "cell_type": "code",
   "execution_count": 71,
   "id": "bc9e6e0b-c784-46c3-819a-eb2bbe325534",
   "metadata": {},
   "outputs": [
    {
     "name": "stdout",
     "output_type": "stream",
     "text": [
      "[2, 4, 5, 6, 7, 8, 9, 11, 13, 15]\n"
     ]
    }
   ],
   "source": [
    "#practical heap sort\n",
    "def heapify(data, i):\n",
    "    left=2*i+1\n",
    "    right=2*i+2\n",
    "    size=len(data)-1\n",
    "    min=i\n",
    "    if (left <= size) and (data[min] > data[left]):\n",
    "        min=left\n",
    "    if right <= size and data[min] > data[right]:\n",
    "        min=right\n",
    "    if min != i:\n",
    "        data[i], data[min]=data[min], data[i]\n",
    "        heapify(data, min) #heap reconstruction\n",
    "        \n",
    "data=[6,15,4,2,8,5,11,9,7,13]\n",
    "#heap construction\n",
    "for i in reversed(range(len(data)//2)):\n",
    "    heapify(data, i)\n",
    "\n",
    "#sorting\n",
    "sorted_data=[]\n",
    "for _ in range(len(data)):\n",
    "    data[0], data[-1]= data[-1], data[0]\n",
    "    sorted_data.append(data.pop())\n",
    "    heapify(data, 0)\n",
    "    \n",
    "print(sorted_data)"
   ]
  },
  {
   "cell_type": "code",
   "execution_count": 74,
   "id": "c8b1f56a-2828-464d-9ad6-5701e20dbcbb",
   "metadata": {},
   "outputs": [
    {
     "name": "stdout",
     "output_type": "stream",
     "text": [
      "[2, 4, 5, 6, 7, 8, 9, 11, 13, 15]\n"
     ]
    }
   ],
   "source": [
    "import heapq\n",
    "\n",
    "def heap_sort(array):\n",
    "    h=array.copy()\n",
    "    heapq.heapify(h)\n",
    "    return [heapq.heappop(h) for _ in range(len(array))]\n",
    "\n",
    "data=[6,15,4,2,8,5,11,9,7,13]\n",
    "print(heap_sort(data))"
   ]
  },
  {
   "cell_type": "code",
   "execution_count": 76,
   "id": "3a0686f1-c00a-42ce-9970-f75e45cdcd0b",
   "metadata": {},
   "outputs": [
    {
     "name": "stdout",
     "output_type": "stream",
     "text": [
      "[2, 4, 5, 6, 7, 8, 9, 11, 13, 15]\n"
     ]
    }
   ],
   "source": [
    "#merge_sort\n",
    "data=[6,15,4,2,8,5,11,9,7,13]\n",
    "\n",
    "def merge_sort(data):\n",
    "    if len(data) <= 1:\n",
    "        return data\n",
    "    \n",
    "    mid=len(data)//2\n",
    "    #classify regressively\n",
    "    left = merge_sort(data[:mid])\n",
    "    right = merge_sort(data[mid:])\n",
    "    #data reunion\n",
    "    return merge(left, right)\n",
    "\n",
    "def merge(left, right):\n",
    "    result=[]\n",
    "    i, j = 0,0\n",
    "    \n",
    "    while (i < len(left)) and (j < len(right)):\n",
    "        if left[i] <= right[j]:\n",
    "            result.append(left[i])\n",
    "            i += 1\n",
    "        else:\n",
    "            result.append(right[j])\n",
    "            j += 1\n",
    "            \n",
    "    #adding the remains\n",
    "    if i < len(left):\n",
    "        result.extend(left[i:])\n",
    "    if j < len(right):\n",
    "        result.extend(right[j:])\n",
    "    return result\n",
    "\n",
    "print(merge_sort(data))"
   ]
  },
  {
   "cell_type": "code",
   "execution_count": null,
   "id": "57ff84d2-0df4-4f1f-8719-5e775281a355",
   "metadata": {},
   "outputs": [],
   "source": []
  }
 ],
 "metadata": {
  "kernelspec": {
   "display_name": "Python 3 (ipykernel)",
   "language": "python",
   "name": "python3"
  },
  "language_info": {
   "codemirror_mode": {
    "name": "ipython",
    "version": 3
   },
   "file_extension": ".py",
   "mimetype": "text/x-python",
   "name": "python",
   "nbconvert_exporter": "python",
   "pygments_lexer": "ipython3",
   "version": "3.8.13"
  }
 },
 "nbformat": 4,
 "nbformat_minor": 5
}
